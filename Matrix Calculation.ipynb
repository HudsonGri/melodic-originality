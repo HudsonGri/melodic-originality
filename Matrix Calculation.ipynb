{
 "cells": [
  {
   "cell_type": "markdown",
   "id": "verified-external",
   "metadata": {
    "tags": []
   },
   "source": [
    "### Import all required libraries"
   ]
  },
  {
   "cell_type": "code",
   "execution_count": null,
   "id": "palestinian-light",
   "metadata": {
    "id": "F9Jpr-c3R3DH"
   },
   "outputs": [],
   "source": [
    "import itertools\n",
    "import os\n",
    "import time\n",
    "from collections import Counter\n",
    "from itertools import tee\n",
    "\n",
    "import numpy as np\n",
    "import pandas as pd\n",
    "import seaborn as sns\n",
    "from matplotlib import pyplot as plt\n",
    "from music21 import converter\n",
    "from scipy.ndimage import gaussian_filter\n",
    "\n",
    "from mpl_toolkits.mplot3d import Axes3D\n",
    "\n",
    "\n",
    "%matplotlib widget\n",
    "plt.style.use('default')"
   ]
  },
  {
   "cell_type": "code",
   "execution_count": null,
   "id": "sought-writer",
   "metadata": {
    "id": "nUwn6tjtLLIe"
   },
   "outputs": [],
   "source": [
    "a = ['C', 'C#', 'D', 'D#', 'E', 'F', 'F#', 'G', 'G#', 'A', 'A#', 'B']\n",
    "\n",
    "c = map(' '.join, itertools.chain(\n",
    "    itertools.product(a, a), itertools.product(a, a)))\n",
    "\n",
    "c = list(c)\n",
    "\n",
    "c = list(dict.fromkeys(c))\n",
    "\n",
    "\n",
    "c_dt = {i: 0 for i in c}\n",
    "\n",
    "\n",
    "df = pd.DataFrame(columns=['Bigram', 'Frequency', 'Count'])"
   ]
  },
  {
   "cell_type": "markdown",
   "id": "dynamic-mexican",
   "metadata": {},
   "source": [
    "### correctNote()\n",
    "Function to correct sharps and flats to the same note"
   ]
  },
  {
   "cell_type": "code",
   "execution_count": null,
   "id": "laden-customs",
   "metadata": {},
   "outputs": [],
   "source": [
    "def correctNote(note):\n",
    "    note_letter = note[:1]\n",
    "\n",
    "    note_step = list(map(lambda i: i, note[1:]))\n",
    "\n",
    "    note_position = a.index(note_letter)\n",
    "\n",
    "    for x in note_step:\n",
    "        if x == '-':\n",
    "            if note_position == 0:\n",
    "                note_position = 11\n",
    "            else:\n",
    "                note_position = note_position - 1\n",
    "        if x == '#':\n",
    "            if note_position == 11:\n",
    "                note_position = 0\n",
    "            else:\n",
    "                note_position = note_position + 1\n",
    "    return a[note_position]"
   ]
  },
  {
   "cell_type": "code",
   "execution_count": null,
   "id": "patent-denial",
   "metadata": {},
   "outputs": [],
   "source": [
    "def pairwise(iterable):\n",
    "    a, b = tee(iterable)\n",
    "    next(b, None)\n",
    "    return zip(a, b)"
   ]
  },
  {
   "cell_type": "markdown",
   "id": "anticipated-recommendation",
   "metadata": {},
   "source": [
    "### plotMatrix()\n",
    "Plot a given matrix"
   ]
  },
  {
   "cell_type": "code",
   "execution_count": null,
   "id": "indoor-stability",
   "metadata": {},
   "outputs": [],
   "source": [
    "def plotMatrix(data, annotate=False, smooth=0, color='viridis', save=False, index='0', show=True):\n",
    "    yticks = data.index\n",
    "    keptticks = yticks[::int(len(yticks)/10)]\n",
    "    yticks = ['' for y in yticks]\n",
    "    yticks[::int(len(yticks)/10)] = keptticks\n",
    "\n",
    "    xticks = data.columns\n",
    "    keptticks = xticks[::int(len(xticks)/10)]\n",
    "    xticks = ['' for y in xticks]\n",
    "    xticks[::int(len(xticks)/10)] = keptticks\n",
    "\n",
    "    fig, ax1,  = plt.subplots(figsize=(8, 6), dpi=100)\n",
    "\n",
    "    data = gaussian_filter(data, sigma=smooth)\n",
    "    sns.heatmap(data, ax=ax1, linewidth=0, yticklabels=yticks,\n",
    "                xticklabels=xticks, cmap=color, annot=annotate)\n",
    "\n",
    "    # This sets the yticks \"upright\" with 0, as opposed to sideways with 90.\n",
    "    plt.yticks(rotation=0)\n",
    "    if save == True:\n",
    "        plt.savefig(f'matrix{index}.png', dpi=300)\n",
    "    if show != False:\n",
    "        plt.show()"
   ]
  },
  {
   "cell_type": "markdown",
   "id": "perceived-participant",
   "metadata": {},
   "source": [
    "### getSong()\n",
    "Get bigram count for a song"
   ]
  },
  {
   "cell_type": "code",
   "execution_count": null,
   "id": "closing-laugh",
   "metadata": {
    "id": "t6gjHpxBS6OT"
   },
   "outputs": [],
   "source": [
    "def getSong(filepath, index):\n",
    "    start_time = time.time()\n",
    "\n",
    "    global c_dt\n",
    "\n",
    "    song_dict = {i: 0 for i in c}\n",
    "    filepath_extended = 'data/midi/' + filepath\n",
    "    s = converter.parse(filepath_extended)\n",
    "\n",
    "    pair_count = 0\n",
    "\n",
    "    recurseIter = s.recurse()\n",
    "\n",
    "    chopin_notes = []\n",
    "    \n",
    "    for i in recurseIter.notes:\n",
    "        if 'Chord' in str(i):\n",
    "            chord_pitches = i.pitches\n",
    "            for i in chord_pitches:\n",
    "                chopin_notes.append(correctNote(i.name))\n",
    "        else:\n",
    "            chopin_notes.append(correctNote(i.name))\n",
    "\n",
    "    for v, w in pairwise(chopin_notes):\n",
    "        noteBigram = str(v) + ' ' + str(w)\n",
    "        song_dict[noteBigram] = song_dict[noteBigram] + 1\n",
    "        pair_count = pair_count + 1\n",
    "\n",
    "    c_dt = dict(Counter(c_dt)+Counter(song_dict))\n",
    "\n",
    "    repetoire_df.loc[repetoire_df.index[index],\n",
    "                     'Piece Pair Count'] = pair_count\n",
    "\n",
    "    return c_dt, song_dict, pair_count, start_time"
   ]
  },
  {
   "cell_type": "markdown",
   "id": "alert-candidate",
   "metadata": {},
   "source": [
    "### Function to save a matrix"
   ]
  },
  {
   "cell_type": "code",
   "execution_count": null,
   "id": "social-anatomy",
   "metadata": {},
   "outputs": [],
   "source": [
    "def saveMatrix(piece_dict, name):\n",
    "    x = 0\n",
    "    for key, value in piece_dict.items():\n",
    "        if value > 0:\n",
    "            pair_count = sum(piece_dict.values())\n",
    "            frequency = value/pair_count\n",
    "            df.loc[x] = [key] + [frequency, value]\n",
    "            x = x + 1\n",
    "            notes = key.split(' ')\n",
    "\n",
    "            note_1 = notes[0]\n",
    "            note_2 = notes[1]\n",
    "            df2.loc[note_1, note_2] = value\n",
    "            file_name = name.split('.'[0])[0]\n",
    "    dataframe_1 = df2.fillna(0)\n",
    "    dataframe_1.to_csv(f'data/pieces/{file_name}.csv')"
   ]
  },
  {
   "cell_type": "code",
   "execution_count": null,
   "id": "british-reserve",
   "metadata": {},
   "outputs": [],
   "source": [
    "repetoire_df = pd.read_csv('data/midi.csv')\n",
    "pd.set_option('display.max_rows', 50)\n",
    "\n",
    "df2 = pd.DataFrame(columns=a, index=a)"
   ]
  },
  {
   "cell_type": "code",
   "execution_count": null,
   "id": "proper-combine",
   "metadata": {},
   "outputs": [],
   "source": [
    "def runAnalysis(data, file=None):\n",
    "    p = 0 \n",
    "    if data == 'new':\n",
    "        pair_count_total = 0\n",
    "        c_dt = {i: 0 for i in c}\n",
    "        x = 0\n",
    "        start_time2 = time.time()\n",
    "        if file == None:\n",
    "            for filepath in os.listdir('data/midi'):\n",
    "                x = x + 1\n",
    "                print('Begun ' + filepath)\n",
    "                c_dt, song_dict, pair_count, start_time = getSong(filepath, 1)\n",
    "                time_took = time.time() - start_time\n",
    "                pair_count_total = pair_count_total + pair_count\n",
    "                saveMatrix(song_dict, filepath)\n",
    "                print(f'[{x}] Finished proccessing \\\"{filepath}\\\" in {round(time_took, 3)} seconds')\n",
    "        else:\n",
    "            filepath = file\n",
    "            print('Begun ' + filepath)\n",
    "            c_dt, song_dict, pair_count, start_time = getSong(filepath, 1)\n",
    "            time_took = time.time() - start_time\n",
    "            pair_count_total = pair_count_total + pair_count\n",
    "            saveMatrix(song_dict, filepath)\n",
    "            print(f'[{x}] Finished proccessing \\\"{filepath}\\\" in {round(time_took, 3)} seconds')\n",
    "            time_took2 = time.time() - start_time2\n",
    "\n",
    "        print(\"Total Bigram Count: {:,.2f}\".format(pair_count_total))\n",
    "        print(\"Total Note Count: {:,.2f}\".format(pair_count_total*2))\n",
    "\n",
    "        print(f'Finished in {round(time_took2, 3)} seconds')\n",
    "\n",
    "        x = 0\n",
    "        for key, value in c_dt.items():\n",
    "            if value > 0:\n",
    "                frequency = value/pair_count\n",
    "                df.loc[x] = [key] + [frequency, value]\n",
    "                x = x + 1\n",
    "                notes = key.split(' ')\n",
    "\n",
    "                note_1 = notes[0]\n",
    "                note_2 = notes[1]\n",
    "                df2.loc[note_1, note_2] = value\n",
    "\n",
    "        df3 = df2.fillna(0)\n",
    "        df4 = df3.div(pair_count_total).round(8)\n",
    "\n",
    "        # Convert to percentages.\n",
    "        df5 = df4.multiply(100)\n",
    "\n",
    "        df4.to_csv('Data/frequency.csv')\n",
    "    else:\n",
    "        df4 = pd.read_csv(\"Data/frequency.csv\", index_col=0)\n",
    "        df5 = df4.multiply(100)\n",
    "    return df5\n"
   ]
  },
  {
   "cell_type": "markdown",
   "id": "8fe904d7-0505-4928-878e-218cfe0e261e",
   "metadata": {},
   "source": [
    "## Running the analysis"
   ]
  },
  {
   "cell_type": "code",
   "execution_count": null,
   "id": "ca658580-c6e7-4e2a-9f41-3dae5c7748e7",
   "metadata": {
    "tags": []
   },
   "outputs": [],
   "source": [
    "runAnalysis(data='new')"
   ]
  },
  {
   "cell_type": "code",
   "execution_count": null,
   "id": "f7040b67-6570-41a2-b782-7f6033add3e5",
   "metadata": {},
   "outputs": [],
   "source": []
  }
 ],
 "metadata": {
  "kernelspec": {
   "display_name": "Python 3 (ipykernel)",
   "language": "python",
   "name": "python3"
  },
  "language_info": {
   "codemirror_mode": {
    "name": "ipython",
    "version": 3
   },
   "file_extension": ".py",
   "mimetype": "text/x-python",
   "name": "python",
   "nbconvert_exporter": "python",
   "pygments_lexer": "ipython3",
   "version": "3.10.0"
  },
  "toc-autonumbering": false,
  "toc-showmarkdowntxt": false
 },
 "nbformat": 4,
 "nbformat_minor": 5
}
