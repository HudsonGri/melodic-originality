{
 "cells": [
  {
   "cell_type": "markdown",
   "metadata": {},
   "source": [
    "### Import all required libraries"
   ]
  },
  {
   "cell_type": "code",
   "execution_count": null,
   "metadata": {
    "id": "F9Jpr-c3R3DH",
    "tags": []
   },
   "outputs": [],
   "source": [
    "from music21 import *\n",
    "import itertools\n",
    "from itertools import tee\n",
    "from collections import OrderedDict\n",
    "import pandas as pd\n",
    "import os\n",
    "import time\n",
    "import numpy as np\n",
    "import matplotlib.pyplot as plt\n",
    "import math\n",
    "from numpy.random import randn\n",
    "from matplotlib import cm\n",
    "import matplotlib.pyplot as plt\n",
    "import seaborn as sns\n",
    "from collections import Counter\n",
    "from scipy.ndimage import gaussian_filter\n",
    "from tqdm import tqdm"
   ]
  },
  {
   "cell_type": "markdown",
   "metadata": {},
   "source": [
    "### Transform folder of note csvs to one matrix."
   ]
  },
  {
   "cell_type": "code",
   "execution_count": null,
   "metadata": {},
   "outputs": [],
   "source": [
    "x = 0\n",
    "a = ['C', 'C#', 'D', 'D#', 'E', 'F', 'F#', 'G', 'G#', 'A', 'A#', 'B']\n",
    "\n",
    "c = list(dict.fromkeys(list(map(' '.join, itertools.chain(\n",
    "    itertools.product(a, a), itertools.product(a, a))))))\n",
    "\n",
    "\n",
    "df2 = pd.DataFrame(columns=c, index=c)\n",
    "\n",
    "\n",
    "for col in df2.columns:\n",
    "    df2[col].values[:] = 0\n",
    "\n",
    "totals = []\n",
    "\n",
    "midi = pd.read_csv('data/midi.csv')\n",
    "for index, row in midi.iterrows():\n",
    "    try:\n",
    "        filepath = 'data/pieces/' + row['File Path'] + '.csv'\n",
    "        df1 = pd.read_csv(filepath, index_col=0)\n",
    "        totals.append(df1.to_numpy().sum())\n",
    "        df2 = pd.concat([df1, df2]).groupby(level=0).sum()\n",
    "    except:\n",
    "        print(f'Failed with {filepath}')\n",
    "df2 = df2.reindex(a)\n",
    "\n",
    "df4 = df2\n",
    "\n",
    "for note in a:\n",
    "    df4.loc[note] = df2.loc[note] / df2.sum(axis=1)[note]\n",
    "df4"
   ]
  },
  {
   "cell_type": "markdown",
   "metadata": {},
   "source": [
    "### correctNote()\n",
    "Function to correct sharps and flats to the same note"
   ]
  },
  {
   "cell_type": "code",
   "execution_count": null,
   "metadata": {},
   "outputs": [],
   "source": [
    "def correctNote(note):\n",
    "    note_letter = note[:1]\n",
    "\n",
    "    note_step = list(map(lambda i:i, note[1:]))\n",
    "    \n",
    "    note_position = a.index(note_letter)\n",
    "    \n",
    "    for x in note_step:\n",
    "        if x == '-':\n",
    "            if note_position == 0:\n",
    "                note_position = 11\n",
    "            else:\n",
    "                note_position = note_position - 1\n",
    "        if x == '#':\n",
    "            if note_position == 11:\n",
    "                note_position = 0\n",
    "            else:\n",
    "                note_position = note_position + 1\n",
    "    return a[note_position]"
   ]
  },
  {
   "cell_type": "code",
   "execution_count": null,
   "metadata": {},
   "outputs": [],
   "source": [
    "def pairwise(iterable):\n",
    "    a, b = tee(iterable)\n",
    "    next(b, None)\n",
    "    return zip(a, b)"
   ]
  },
  {
   "cell_type": "code",
   "execution_count": null,
   "metadata": {
    "id": "t6gjHpxBS6OT"
   },
   "outputs": [],
   "source": [
    "def getSong(filepath):\n",
    "    \n",
    "    global c_dt\n",
    "    \n",
    "    song_dict = { i : 0 for i in c }\n",
    "    filepath_extended = 'data/midi/' + filepath + '.mid'\n",
    "    s = converter.parse(filepath_extended)\n",
    "    \n",
    "    pair_count = 0\n",
    "\n",
    "\n",
    "    recurseIter = s.recurse()\n",
    "\n",
    "    chopin_notes = []\n",
    "    x = 0\n",
    "    for i in recurseIter.notes:\n",
    "        \n",
    "        if 'Chord' in str(i):\n",
    "            chord_pitches = i.pitches\n",
    "            for i in chord_pitches:\n",
    "                chopin_notes.append(correctNote(i.name))\n",
    "        else:\n",
    "            chopin_notes.append(correctNote(i.name))\n",
    "            \n",
    "\n",
    "    bigram_list_prob = []\n",
    "    for v, w in pairwise(chopin_notes):\n",
    "        bigram_prob = big_data[w][v]\n",
    "        bigram_list_prob.append(bigram_prob)\n",
    "        \n",
    "        \n",
    "    pair_count = len(bigram_list_prob)\n",
    "    \n",
    "    melodic_originality = 1-sum(bigram_list_prob)/pair_count\n",
    "    \n",
    "\n",
    "    return song_dict, pair_count, bigram_list_prob, melodic_originality"
   ]
  },
  {
   "cell_type": "markdown",
   "metadata": {},
   "source": [
    "### analyzePiece()\n",
    "Calculate the melodic originality for a given piece."
   ]
  },
  {
   "cell_type": "code",
   "execution_count": null,
   "metadata": {},
   "outputs": [],
   "source": [
    "big_data = df4\n",
    "def analyzePiece(song):\n",
    "    song_dict, pair_count, bigram_list_prob, melodic_originality = getSong(song)\n",
    "    df2 = pd.DataFrame(columns=a, index=a)\n",
    "\n",
    "    x = 0\n",
    "    for key,value in song_dict.items():\n",
    "        if value > 0:\n",
    "            frequency = value/pair_count\n",
    "            df.loc[x] = [key] + [frequency, value]\n",
    "            x = x + 1\n",
    "            notes = key.split(' ')\n",
    "\n",
    "            note_1 = notes[0]\n",
    "            note_2 = notes[1]\n",
    "            df2.loc[note_1,note_2] = value\n",
    "            print(f'Note: {key}, Frequency:   {frequency}, Value: {value}')\n",
    "    dataframe_1 = df2.fillna(0)\n",
    "\n",
    "    dataframe_2 = dataframe_1.div(pair_count)\n",
    "    \n",
    "    \n",
    "    total_prob = sum(bigram_list_prob)\n",
    "\n",
    "    test = pair_count\n",
    "\n",
    "    melodic_originality = 1-(total_prob/test)\n",
    "    return melodic_originality"
   ]
  },
  {
   "cell_type": "markdown",
   "metadata": {},
   "source": [
    "Iterate through the piece dataframe to calculate the melodic originality for each peice."
   ]
  },
  {
   "cell_type": "code",
   "execution_count": null,
   "metadata": {},
   "outputs": [],
   "source": [
    "midi[\"Melodic Originality\"] = \"\"\n",
    "for index, row in midi.iterrows():\n",
    "        file_path = row['File Path']\n",
    "        melodic_originality = analyzePiece(file_path)\n",
    "        print(f'[{index+1}] Piece: {file_path}, Originality: {melodic_originality}')\n",
    "        midi.iat[index, 3] = melodic_originality\n",
    "        midi.to_csv('data/result.csv', index=False)\n",
    "midi"
   ]
  },
  {
   "cell_type": "code",
   "execution_count": null,
   "metadata": {},
   "outputs": [],
   "source": [
    "repetoire_df = pd.read_csv('data/result.csv')\n",
    "pd.set_option('display.max_rows', 50)\n",
    "\n",
    "df2 = pd.DataFrame(columns=a, index=a)\n",
    "\n",
    "repetoire_df"
   ]
  },
  {
   "cell_type": "code",
   "execution_count": null,
   "metadata": {},
   "outputs": [],
   "source": []
  }
 ],
 "metadata": {
  "colab": {
   "name": "Melodic Originality.ipynb",
   "provenance": []
  },
  "kernelspec": {
   "display_name": "Python 3 (ipykernel)",
   "language": "python",
   "name": "python3"
  },
  "language_info": {
   "codemirror_mode": {
    "name": "ipython",
    "version": 3
   },
   "file_extension": ".py",
   "mimetype": "text/x-python",
   "name": "python",
   "nbconvert_exporter": "python",
   "pygments_lexer": "ipython3",
   "version": "3.10.0"
  }
 },
 "nbformat": 4,
 "nbformat_minor": 4
}
