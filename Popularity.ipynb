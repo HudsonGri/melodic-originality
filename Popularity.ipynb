{
 "cells": [
  {
   "cell_type": "code",
   "execution_count": null,
   "id": "temporal-advantage",
   "metadata": {},
   "outputs": [],
   "source": [
    "from selenium.webdriver.common.by import By\n",
    "from selenium import webdriver\n",
    "from selenium.webdriver.common.keys import Keys\n",
    "import time\n",
    "\n",
    "driver = webdriver.Chrome()\n",
    "\n",
    "def check_captcha():\n",
    "    try:\n",
    "        captcha = driver.find_element(By.XPATH, \"//b[contains(text(),'About this page')]\")\n",
    "    except:\n",
    "        return False\n",
    "    return True\n",
    "\n",
    "def getPopularity(piece_tital, composer):\n",
    "    search_string = piece_tital.replace(\" \", \"+\")\n",
    "    search_string = f\"https://www.google.com/search?q={composer},+{search_string}\"\n",
    "    print(search_string)\n",
    "    driver.get(search_string)\n",
    "    \n",
    "    for x in range(10000000):\n",
    "        if check_captcha() == True:\n",
    "            time.sleep(10)\n",
    "        else:\n",
    "            try:\n",
    "                result = driver.find_element(By.XPATH, \"//div[@id='result-stats']\")\n",
    "                sti = result.text\n",
    "                result = sti.split(' ')[1].replace(',', '')\n",
    "            except:\n",
    "                result = 0\n",
    "            print(result)\n",
    "            return result"
   ]
  },
  {
   "cell_type": "code",
   "execution_count": null,
   "id": "catholic-favor",
   "metadata": {},
   "outputs": [],
   "source": [
    "import pandas as pd\n",
    "midi = pd.read_excel('Final Data.xlsx')"
   ]
  },
  {
   "cell_type": "code",
   "execution_count": null,
   "id": "interstate-enhancement",
   "metadata": {},
   "outputs": [],
   "source": [
    "midi[\"Popularity\"] = \"\"\n",
    "for index, row in midi.iterrows():\n",
    "        piece_tital = row['Piece Tital']\n",
    "        composer = row['Composer']\n",
    "        popularity = getPopularity(piece_tital, composer)\n",
    "        print(f'{piece_tital} : {popularity}')\n",
    "        midi.iat[index, 4] = popularity\n",
    "        midi.to_csv('pop2.csv', index=False)\n",
    "midi"
   ]
  },
  {
   "cell_type": "code",
   "execution_count": null,
   "id": "lined-journey",
   "metadata": {},
   "outputs": [],
   "source": []
  }
 ],
 "metadata": {
  "kernelspec": {
   "display_name": "Python 3 (ipykernel)",
   "language": "python",
   "name": "python3"
  },
  "language_info": {
   "codemirror_mode": {
    "name": "ipython",
    "version": 3
   },
   "file_extension": ".py",
   "mimetype": "text/x-python",
   "name": "python",
   "nbconvert_exporter": "python",
   "pygments_lexer": "ipython3",
   "version": "3.10.0"
  }
 },
 "nbformat": 4,
 "nbformat_minor": 5
}
