{
 "cells": [
  {
   "cell_type": "markdown",
   "id": "d476ca1a-fe3f-427a-8f34-7add073804b4",
   "metadata": {},
   "source": [
    "### Import all required libraries"
   ]
  },
  {
   "cell_type": "code",
   "execution_count": null,
   "id": "green-haiti",
   "metadata": {},
   "outputs": [],
   "source": [
    "import itertools\n",
    "import os\n",
    "\n",
    "import numpy as np\n",
    "import pandas as pd\n",
    "import seaborn as sns\n",
    "from matplotlib import pyplot as plt\n",
    "from scipy.ndimage import gaussian_filter\n",
    "\n",
    "from mpl_toolkits.mplot3d import Axes3D\n",
    "import scipy as scipy\n",
    "from scipy import stats\n",
    "\n",
    "%matplotlib widget"
   ]
  },
  {
   "cell_type": "code",
   "execution_count": null,
   "id": "1f452f50-cede-4942-a3c8-282f79560af3",
   "metadata": {},
   "outputs": [],
   "source": [
    "x = 0\n",
    "a = ['C', 'C#', 'D', 'D#', 'E', 'F', 'F#', 'G', 'G#', 'A', 'A#', 'B']\n",
    "\n",
    "c = list(dict.fromkeys(list(map(' '.join, itertools.chain(\n",
    "    itertools.product(a, a), itertools.product(a, a))))))\n",
    "\n",
    "\n",
    "df2 = pd.DataFrame(columns=c, index=c)\n",
    "\n",
    "\n",
    "for col in df2.columns:\n",
    "    df2[col].values[:] = 0\n",
    "\n",
    "totals = []\n",
    "\n",
    "midi = pd.read_csv('data/midi.csv')\n",
    "for index, row in midi.iterrows():\n",
    "    try:\n",
    "        filepath = 'data/pieces/' + row['File Path'] + '.csv'\n",
    "        df1 = pd.read_csv(filepath, index_col=0)\n",
    "        totals.append(df1.to_numpy().sum())\n",
    "        df2 = pd.concat([df1, df2]).groupby(level=0).sum()\n",
    "    except:\n",
    "        print(f'Didn\\'t work with {filepath}')\n",
    "df2 = df2.reindex(a)\n",
    "\n",
    "display(\"Total Note-Transition Counts For All Pieces\")\n",
    "df2"
   ]
  },
  {
   "cell_type": "code",
   "execution_count": null,
   "id": "consecutive-fraction",
   "metadata": {},
   "outputs": [],
   "source": [
    "print(f'Total Piece Count: {len(os.listdir(\"data/pieces/\"))}')\n",
    "print('Bigram count ' + '{:,}'.format(df2.to_numpy().sum()))\n",
    "\n",
    "print(\"Std = \" + str(round(np.std(totals), 2)))\n",
    "print(\"Mean = \" + str(round(np.mean(totals), 2)))\n",
    "print(\"Median = \" + str(round(np.median(totals), 2)))\n",
    "\n",
    "sns.displot(data=totals, color='green', linewidth=0,\n",
    "            bins=100, kde=False, height=4, aspect=2);"
   ]
  },
  {
   "cell_type": "code",
   "execution_count": null,
   "id": "seventh-system",
   "metadata": {},
   "outputs": [],
   "source": [
    "def plotMatrix(data, annotate=False, smooth=0, color='viridis', save=False, index='0', show=True):\n",
    "    if annotate == True:\n",
    "        sns.set(font_scale=1)\n",
    "    else:\n",
    "        sns.set(font_scale=1.5)\n",
    "    \n",
    "    yticks = data.index\n",
    "    keptticks = yticks[::int(len(yticks)/10)]\n",
    "    yticks = ['' for y in yticks]\n",
    "    yticks[::int(len(yticks)/10)] = keptticks\n",
    "\n",
    "    xticks = data.columns\n",
    "    keptticks = xticks[::int(len(xticks)/10)]\n",
    "    xticks = ['' for y in xticks]\n",
    "    xticks[::int(len(xticks)/10)] = keptticks\n",
    "\n",
    "    fig, ax1,  = plt.subplots(figsize=(8, 6), dpi=100)\n",
    "\n",
    "    data = gaussian_filter(data, sigma=smooth)\n",
    "    sns.heatmap(data, ax=ax1, linewidth=0, yticklabels=yticks,\n",
    "                xticklabels=xticks, cmap=color, annot=annotate).set(title=f'n = {index}')\n",
    "\n",
    "    plt.yticks(rotation=0)\n",
    "    if save == True:\n",
    "        plt.savefig(f'data/matrices/matrix{index}.png')\n",
    "    if show != False:\n",
    "        plt.show()"
   ]
  },
  {
   "cell_type": "code",
   "execution_count": null,
   "id": "limiting-southwest",
   "metadata": {},
   "outputs": [],
   "source": [
    "# Converting to a stochastic matrix\n",
    "df4 = df2\n",
    "for note in a:\n",
    "    df4.loc[note] = df2.loc[note] / df2.sum(axis=1)[note]\n",
    "df4"
   ]
  },
  {
   "cell_type": "code",
   "execution_count": null,
   "id": "difficult-joining",
   "metadata": {},
   "outputs": [],
   "source": [
    "# Plotting example matrices\n",
    "plotMatrix(df4, annotate=True)\n",
    "plotMatrix(df4)\n",
    "plotMatrix(df4, smooth=1)"
   ]
  },
  {
   "cell_type": "code",
   "execution_count": null,
   "id": "sought-receptor",
   "metadata": {},
   "outputs": [],
   "source": []
  },
  {
   "cell_type": "code",
   "execution_count": null,
   "id": "sudden-conflict",
   "metadata": {},
   "outputs": [],
   "source": []
  }
 ],
 "metadata": {
  "kernelspec": {
   "display_name": "Python 3 (ipykernel)",
   "language": "python",
   "name": "python3"
  },
  "language_info": {
   "codemirror_mode": {
    "name": "ipython",
    "version": 3
   },
   "file_extension": ".py",
   "mimetype": "text/x-python",
   "name": "python",
   "nbconvert_exporter": "python",
   "pygments_lexer": "ipython3",
   "version": "3.10.0"
  }
 },
 "nbformat": 4,
 "nbformat_minor": 5
}
